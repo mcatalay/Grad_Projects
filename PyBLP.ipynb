{
 "cells": [
  {
   "cell_type": "code",
   "execution_count": 2,
   "metadata": {},
   "outputs": [
    {
     "data": {
      "text/plain": [
       "'0.8.1'"
      ]
     },
     "execution_count": 2,
     "metadata": {},
     "output_type": "execute_result"
    }
   ],
   "source": [
    "import pyblp\n",
    "import numpy as np\n",
    "import pandas as pd\n",
    "\n",
    "pyblp.options.digits = 2\n",
    "pyblp.options.verbose = False\n",
    "pyblp.__version__"
   ]
  },
  {
   "cell_type": "code",
   "execution_count": 32,
   "metadata": {},
   "outputs": [],
   "source": [
    "data = pd.read_csv(\"psetOne.csv\")"
   ]
  },
  {
   "cell_type": "code",
   "execution_count": 24,
   "metadata": {},
   "outputs": [],
   "source": [
    "product_data = data.rename({'price': 'prices', 'Market': 'market_ids', 'Shares': 'shares'}, axis='columns')\n",
    "product_data.columns = data1.columns.str.replace('z','demand_instruments')"
   ]
  },
  {
   "cell_type": "code",
   "execution_count": 25,
   "metadata": {},
   "outputs": [
    {
     "data": {
      "text/html": [
       "<div>\n",
       "<style scoped>\n",
       "    .dataframe tbody tr th:only-of-type {\n",
       "        vertical-align: middle;\n",
       "    }\n",
       "\n",
       "    .dataframe tbody tr th {\n",
       "        vertical-align: top;\n",
       "    }\n",
       "\n",
       "    .dataframe thead th {\n",
       "        text-align: right;\n",
       "    }\n",
       "</style>\n",
       "<table border=\"1\" class=\"dataframe\">\n",
       "  <thead>\n",
       "    <tr style=\"text-align: right;\">\n",
       "      <th></th>\n",
       "      <th>intercept</th>\n",
       "      <th>prices</th>\n",
       "      <th>x3</th>\n",
       "      <th>x4</th>\n",
       "      <th>x5</th>\n",
       "      <th>demand_instruments1</th>\n",
       "      <th>demand_instruments2</th>\n",
       "      <th>demand_instruments3</th>\n",
       "      <th>demand_instruments4</th>\n",
       "      <th>demand_instruments5</th>\n",
       "      <th>...</th>\n",
       "      <th>demand_instruments13</th>\n",
       "      <th>demand_instruments14</th>\n",
       "      <th>demand_instruments15</th>\n",
       "      <th>demand_instruments16</th>\n",
       "      <th>demand_instruments17</th>\n",
       "      <th>demand_instruments18</th>\n",
       "      <th>demand_instruments19</th>\n",
       "      <th>demand_instruments20</th>\n",
       "      <th>market_ids</th>\n",
       "      <th>shares</th>\n",
       "    </tr>\n",
       "  </thead>\n",
       "  <tbody>\n",
       "    <tr>\n",
       "      <th>0</th>\n",
       "      <td>1</td>\n",
       "      <td>12.108455</td>\n",
       "      <td>0.160992</td>\n",
       "      <td>4.812402</td>\n",
       "      <td>1.782189</td>\n",
       "      <td>1</td>\n",
       "      <td>0.378256</td>\n",
       "      <td>0.488768</td>\n",
       "      <td>0.102250</td>\n",
       "      <td>0.957012</td>\n",
       "      <td>...</td>\n",
       "      <td>0.568233</td>\n",
       "      <td>0.915644</td>\n",
       "      <td>0.747243</td>\n",
       "      <td>0.105835</td>\n",
       "      <td>0.219022</td>\n",
       "      <td>0.817923</td>\n",
       "      <td>0.580199</td>\n",
       "      <td>0.447471</td>\n",
       "      <td>1</td>\n",
       "      <td>0.010879</td>\n",
       "    </tr>\n",
       "    <tr>\n",
       "      <th>1</th>\n",
       "      <td>1</td>\n",
       "      <td>13.181407</td>\n",
       "      <td>1.485405</td>\n",
       "      <td>4.801389</td>\n",
       "      <td>1.934532</td>\n",
       "      <td>1</td>\n",
       "      <td>0.604463</td>\n",
       "      <td>0.815648</td>\n",
       "      <td>0.714064</td>\n",
       "      <td>0.195970</td>\n",
       "      <td>...</td>\n",
       "      <td>0.986930</td>\n",
       "      <td>0.558251</td>\n",
       "      <td>0.263951</td>\n",
       "      <td>0.141410</td>\n",
       "      <td>0.343043</td>\n",
       "      <td>0.391999</td>\n",
       "      <td>0.435976</td>\n",
       "      <td>0.608725</td>\n",
       "      <td>1</td>\n",
       "      <td>0.040582</td>\n",
       "    </tr>\n",
       "    <tr>\n",
       "      <th>2</th>\n",
       "      <td>1</td>\n",
       "      <td>15.491495</td>\n",
       "      <td>1.503773</td>\n",
       "      <td>4.771385</td>\n",
       "      <td>1.641470</td>\n",
       "      <td>1</td>\n",
       "      <td>0.470545</td>\n",
       "      <td>0.862062</td>\n",
       "      <td>0.867709</td>\n",
       "      <td>0.789975</td>\n",
       "      <td>...</td>\n",
       "      <td>0.406572</td>\n",
       "      <td>0.513993</td>\n",
       "      <td>0.207370</td>\n",
       "      <td>0.997862</td>\n",
       "      <td>0.345570</td>\n",
       "      <td>0.914552</td>\n",
       "      <td>0.941882</td>\n",
       "      <td>0.704574</td>\n",
       "      <td>1</td>\n",
       "      <td>0.003859</td>\n",
       "    </tr>\n",
       "    <tr>\n",
       "      <th>3</th>\n",
       "      <td>1</td>\n",
       "      <td>11.178702</td>\n",
       "      <td>4.798550</td>\n",
       "      <td>4.610094</td>\n",
       "      <td>1.844118</td>\n",
       "      <td>1</td>\n",
       "      <td>0.422738</td>\n",
       "      <td>0.362674</td>\n",
       "      <td>0.373128</td>\n",
       "      <td>0.025455</td>\n",
       "      <td>...</td>\n",
       "      <td>0.915208</td>\n",
       "      <td>0.151043</td>\n",
       "      <td>0.852034</td>\n",
       "      <td>0.843238</td>\n",
       "      <td>0.209150</td>\n",
       "      <td>0.672822</td>\n",
       "      <td>0.362544</td>\n",
       "      <td>0.478866</td>\n",
       "      <td>1</td>\n",
       "      <td>0.761173</td>\n",
       "    </tr>\n",
       "    <tr>\n",
       "      <th>4</th>\n",
       "      <td>1</td>\n",
       "      <td>13.009283</td>\n",
       "      <td>0.939336</td>\n",
       "      <td>4.598974</td>\n",
       "      <td>1.730790</td>\n",
       "      <td>1</td>\n",
       "      <td>0.840465</td>\n",
       "      <td>0.161859</td>\n",
       "      <td>0.476482</td>\n",
       "      <td>0.596515</td>\n",
       "      <td>...</td>\n",
       "      <td>0.203302</td>\n",
       "      <td>0.507820</td>\n",
       "      <td>0.315017</td>\n",
       "      <td>0.746393</td>\n",
       "      <td>0.656801</td>\n",
       "      <td>0.668211</td>\n",
       "      <td>0.958055</td>\n",
       "      <td>0.047648</td>\n",
       "      <td>1</td>\n",
       "      <td>0.014363</td>\n",
       "    </tr>\n",
       "  </tbody>\n",
       "</table>\n",
       "<p>5 rows × 27 columns</p>\n",
       "</div>"
      ],
      "text/plain": [
       "   intercept     prices        x3        x4        x5  demand_instruments1  \\\n",
       "0          1  12.108455  0.160992  4.812402  1.782189                    1   \n",
       "1          1  13.181407  1.485405  4.801389  1.934532                    1   \n",
       "2          1  15.491495  1.503773  4.771385  1.641470                    1   \n",
       "3          1  11.178702  4.798550  4.610094  1.844118                    1   \n",
       "4          1  13.009283  0.939336  4.598974  1.730790                    1   \n",
       "\n",
       "   demand_instruments2  demand_instruments3  demand_instruments4  \\\n",
       "0             0.378256             0.488768             0.102250   \n",
       "1             0.604463             0.815648             0.714064   \n",
       "2             0.470545             0.862062             0.867709   \n",
       "3             0.422738             0.362674             0.373128   \n",
       "4             0.840465             0.161859             0.476482   \n",
       "\n",
       "   demand_instruments5    ...     demand_instruments13  demand_instruments14  \\\n",
       "0             0.957012    ...                 0.568233              0.915644   \n",
       "1             0.195970    ...                 0.986930              0.558251   \n",
       "2             0.789975    ...                 0.406572              0.513993   \n",
       "3             0.025455    ...                 0.915208              0.151043   \n",
       "4             0.596515    ...                 0.203302              0.507820   \n",
       "\n",
       "   demand_instruments15  demand_instruments16  demand_instruments17  \\\n",
       "0              0.747243              0.105835              0.219022   \n",
       "1              0.263951              0.141410              0.343043   \n",
       "2              0.207370              0.997862              0.345570   \n",
       "3              0.852034              0.843238              0.209150   \n",
       "4              0.315017              0.746393              0.656801   \n",
       "\n",
       "   demand_instruments18  demand_instruments19  demand_instruments20  \\\n",
       "0              0.817923              0.580199              0.447471   \n",
       "1              0.391999              0.435976              0.608725   \n",
       "2              0.914552              0.941882              0.704574   \n",
       "3              0.672822              0.362544              0.478866   \n",
       "4              0.668211              0.958055              0.047648   \n",
       "\n",
       "   market_ids    shares  \n",
       "0           1  0.010879  \n",
       "1           1  0.040582  \n",
       "2           1  0.003859  \n",
       "3           1  0.761173  \n",
       "4           1  0.014363  \n",
       "\n",
       "[5 rows x 27 columns]"
      ]
     },
     "execution_count": 25,
     "metadata": {},
     "output_type": "execute_result"
    }
   ],
   "source": [
    "product_data.head()"
   ]
  },
  {
   "cell_type": "code",
   "execution_count": 72,
   "metadata": {},
   "outputs": [
    {
     "data": {
      "text/plain": [
       "(prices + x3 + x4 + x5 + demand_instruments2 + demand_instruments3 + demand_instruments4 + demand_instruments5 + demand_instruments6 + demand_instruments7 + demand_instruments8 + demand_instruments9 + demand_instruments10 + demand_instruments11 + demand_instruments12 + demand_instruments13 + demand_instruments14 + demand_instruments15 + demand_instruments16 + demand_instruments17 + demand_instruments18 + demand_instruments19 + demand_instruments20,\n",
       " 1 + prices + x3 + x4 + x5)"
      ]
     },
     "execution_count": 72,
     "metadata": {},
     "output_type": "execute_result"
    }
   ],
   "source": [
    "X1_formulation = pyblp.Formulation('0 + prices+x3 + x4 + x5 + demand_instruments2 + demand_instruments3 + demand_instruments4 + demand_instruments5 + demand_instruments6 + demand_instruments7 + demand_instruments8 + demand_instruments9 + demand_instruments10 + demand_instruments11 + demand_instruments12 + demand_instruments13 + demand_instruments14 + demand_instruments15 + demand_instruments16 + demand_instruments17 + demand_instruments18 + demand_instruments19 + demand_instruments20')\n",
    "#X1_formulation = pyblp.Formulation('0 + prices', absorb='C(market_ids)')\n",
    "#X1_formulation = pyblp.Formulation('0 + prices')\n",
    "X2_formulation = pyblp.Formulation('1 + prices + x3 + x4 + x5')\n",
    "product_formulations = (X1_formulation, X2_formulation)\n",
    "product_formulations"
   ]
  },
  {
   "cell_type": "code",
   "execution_count": 68,
   "metadata": {},
   "outputs": [
    {
     "data": {
      "text/plain": [
       "Configured to construct nodes and weights with Monte Carlo simulation."
      ]
     },
     "execution_count": 68,
     "metadata": {},
     "output_type": "execute_result"
    }
   ],
   "source": [
    "mc_integration = pyblp.Integration('monte_carlo', size=20, seed=0)\n",
    "mc_integration"
   ]
  },
  {
   "cell_type": "code",
   "execution_count": 69,
   "metadata": {},
   "outputs": [
    {
     "data": {
      "text/plain": [
       "Configured to construct nodes and weights according to the level-5 Gauss-Hermite product rule."
      ]
     },
     "execution_count": 69,
     "metadata": {},
     "output_type": "execute_result"
    }
   ],
   "source": [
    "pr_integration = pyblp.Integration('product', size=5)\n",
    "pr_integration"
   ]
  },
  {
   "cell_type": "code",
   "execution_count": 70,
   "metadata": {},
   "outputs": [
    {
     "data": {
      "text/plain": [
       "Dimensions:\n",
       "==========================\n",
       " T    N    I     K1    K2 \n",
       "---  ---  ----  ----  ----\n",
       "100  367  2000   1     5  \n",
       "==========================\n",
       "\n",
       "Formulations:\n",
       "============================================================\n",
       "       Column Indices:           0       1      2    3    4 \n",
       "-----------------------------  ------  ------  ---  ---  ---\n",
       " X1: Linear Characteristics    prices                       \n",
       "X2: Nonlinear Characteristics    1     prices  x3   x4   x5 \n",
       "============================================================"
      ]
     },
     "execution_count": 70,
     "metadata": {},
     "output_type": "execute_result"
    }
   ],
   "source": [
    "mc_problem = pyblp.Problem(product_formulations, product_data, integration=mc_integration)\n",
    "#mc_problem.MD = 20\n",
    "mc_problem"
   ]
  },
  {
   "cell_type": "code",
   "execution_count": 62,
   "metadata": {},
   "outputs": [
    {
     "ename": "KeyError",
     "evalue": "'product_data must have market_ids and firm_ids fields.'",
     "output_type": "error",
     "traceback": [
      "\u001b[0;31m---------------------------------------------------------------------------\u001b[0m",
      "\u001b[0;31mKeyError\u001b[0m                                  Traceback (most recent call last)",
      "\u001b[0;32m<ipython-input-62-129251f659d7>\u001b[0m in \u001b[0;36m<module>\u001b[0;34m()\u001b[0m\n\u001b[1;32m      1\u001b[0m \u001b[0minstrument_formulation\u001b[0m \u001b[0;34m=\u001b[0m \u001b[0mpyblp\u001b[0m\u001b[0;34m.\u001b[0m\u001b[0mFormulation\u001b[0m\u001b[0;34m(\u001b[0m\u001b[0;34m'demand_instruments1 + demand_instruments2 + demand_instruments3 + demand_instruments4 + demand_instruments5 + demand_instruments6 + demand_instruments7 + demand_instruments8 + demand_instruments9 + demand_instruments10 + demand_instruments11 + demand_instruments12 + demand_instruments13 + demand_instruments14 + demand_instruments15 + demand_instruments16 + demand_instruments17 + demand_instruments18 + demand_instruments19 + demand_instruments20'\u001b[0m\u001b[0;34m)\u001b[0m\u001b[0;34m\u001b[0m\u001b[0m\n\u001b[0;32m----> 2\u001b[0;31m \u001b[0mlocal_instruments\u001b[0m \u001b[0;34m=\u001b[0m \u001b[0mpyblp\u001b[0m\u001b[0;34m.\u001b[0m\u001b[0mbuild_differentiation_instruments\u001b[0m\u001b[0;34m(\u001b[0m\u001b[0minstrument_formulation\u001b[0m \u001b[0;34m,\u001b[0m \u001b[0mproduct_data\u001b[0m\u001b[0;34m)\u001b[0m\u001b[0;34m\u001b[0m\u001b[0m\n\u001b[0m\u001b[1;32m      3\u001b[0m \u001b[0mlocal_instruments\u001b[0m\u001b[0;34m.\u001b[0m\u001b[0mshape\u001b[0m\u001b[0;34m\u001b[0m\u001b[0m\n",
      "\u001b[0;32m/anaconda3/lib/python3.6/site-packages/pyblp/construction.py\u001b[0m in \u001b[0;36mbuild_differentiation_instruments\u001b[0;34m(formulation, product_data, version, interact)\u001b[0m\n\u001b[1;32m    348\u001b[0m     \u001b[0mfirm_ids\u001b[0m \u001b[0;34m=\u001b[0m \u001b[0mextract_matrix\u001b[0m\u001b[0;34m(\u001b[0m\u001b[0mproduct_data\u001b[0m\u001b[0;34m,\u001b[0m \u001b[0;34m'firm_ids'\u001b[0m\u001b[0;34m)\u001b[0m\u001b[0;34m\u001b[0m\u001b[0m\n\u001b[1;32m    349\u001b[0m     \u001b[0;32mif\u001b[0m \u001b[0mmarket_ids\u001b[0m \u001b[0;32mis\u001b[0m \u001b[0;32mNone\u001b[0m \u001b[0;32mor\u001b[0m \u001b[0mfirm_ids\u001b[0m \u001b[0;32mis\u001b[0m \u001b[0;32mNone\u001b[0m\u001b[0;34m:\u001b[0m\u001b[0;34m\u001b[0m\u001b[0m\n\u001b[0;32m--> 350\u001b[0;31m         \u001b[0;32mraise\u001b[0m \u001b[0mKeyError\u001b[0m\u001b[0;34m(\u001b[0m\u001b[0;34m\"product_data must have market_ids and firm_ids fields.\"\u001b[0m\u001b[0;34m)\u001b[0m\u001b[0;34m\u001b[0m\u001b[0m\n\u001b[0m\u001b[1;32m    351\u001b[0m     \u001b[0;32mif\u001b[0m \u001b[0mmarket_ids\u001b[0m\u001b[0;34m.\u001b[0m\u001b[0mshape\u001b[0m\u001b[0;34m[\u001b[0m\u001b[0;36m1\u001b[0m\u001b[0;34m]\u001b[0m \u001b[0;34m>\u001b[0m \u001b[0;36m1\u001b[0m\u001b[0;34m:\u001b[0m\u001b[0;34m\u001b[0m\u001b[0m\n\u001b[1;32m    352\u001b[0m         \u001b[0;32mraise\u001b[0m \u001b[0mValueError\u001b[0m\u001b[0;34m(\u001b[0m\u001b[0;34m\"The market_ids field of product_data must be one-dimensional.\"\u001b[0m\u001b[0;34m)\u001b[0m\u001b[0;34m\u001b[0m\u001b[0m\n",
      "\u001b[0;31mKeyError\u001b[0m: 'product_data must have market_ids and firm_ids fields.'"
     ]
    }
   ],
   "source": [
    "instrument_formulation = pyblp.Formulation('demand_instruments1 + demand_instruments2 + demand_instruments3 + demand_instruments4 + demand_instruments5 + demand_instruments6 + demand_instruments7 + demand_instruments8 + demand_instruments9 + demand_instruments10 + demand_instruments11 + demand_instruments12 + demand_instruments13 + demand_instruments14 + demand_instruments15 + demand_instruments16 + demand_instruments17 + demand_instruments18 + demand_instruments19 + demand_instruments20')\n",
    "local_instruments = pyblp.build_differentiation_instruments(instrument_formulation , product_data)\n",
    "local_instruments.shape"
   ]
  },
  {
   "cell_type": "code",
   "execution_count": 63,
   "metadata": {},
   "outputs": [
    {
     "data": {
      "text/plain": [
       "Dimensions:\n",
       "========================================\n",
       " T    N     I      K1    K2    MD    ED \n",
       "---  ---  ------  ----  ----  ----  ----\n",
       "100  367  312500   23    5     20    1  \n",
       "========================================\n",
       "\n",
       "Formulations:\n",
       "=================================================================================================================================================================================================================================================================================================================================================================================================================================================================================\n",
       "       Column Indices:           0       1      2    3            4                    5                    6                    7                    8                    9                   10                   11                    12                    13                    14                    15                    16                    17                    18                    19                    20                    21                    22         \n",
       "-----------------------------  ------  ------  ---  ---  -------------------  -------------------  -------------------  -------------------  -------------------  -------------------  -------------------  -------------------  --------------------  --------------------  --------------------  --------------------  --------------------  --------------------  --------------------  --------------------  --------------------  --------------------  --------------------\n",
       " X1: Linear Characteristics    prices    x3    x4   x5   demand_instruments2  demand_instruments3  demand_instruments4  demand_instruments5  demand_instruments6  demand_instruments7  demand_instruments8  demand_instruments9  demand_instruments10  demand_instruments11  demand_instruments12  demand_instruments13  demand_instruments14  demand_instruments15  demand_instruments16  demand_instruments17  demand_instruments18  demand_instruments19  demand_instruments20\n",
       "X2: Nonlinear Characteristics    1     prices  x3   x4           x5                                                                                                                                                                                                                                                                                                                                                                                                              \n",
       "================================================================================================================================================================================================================================================================================================================================================================================================================================================================================="
      ]
     },
     "execution_count": 63,
     "metadata": {},
     "output_type": "execute_result"
    }
   ],
   "source": [
    "pr_problem = pyblp.Problem(product_formulations, product_data, integration=pr_integration)\n",
    "pr_problem.MD = 20\n",
    "pr_problem"
   ]
  },
  {
   "cell_type": "code",
   "execution_count": 64,
   "metadata": {},
   "outputs": [
    {
     "data": {
      "text/plain": [
       "Configured to optimize using the BFGS algorithm implemented in SciPy with analytic gradients and options {gtol: +1.0E-10}."
      ]
     },
     "execution_count": 64,
     "metadata": {},
     "output_type": "execute_result"
    }
   ],
   "source": [
    "bfgs = pyblp.Optimization('bfgs', {'gtol': 1e-10})\n",
    "bfgs"
   ]
  },
  {
   "cell_type": "code",
   "execution_count": 73,
   "metadata": {},
   "outputs": [
    {
     "ename": "LinAlgError",
     "evalue": "cond is not defined on empty arrays",
     "output_type": "error",
     "traceback": [
      "\u001b[0;31m---------------------------------------------------------------------------\u001b[0m",
      "\u001b[0;31mLinAlgError\u001b[0m                               Traceback (most recent call last)",
      "\u001b[0;32m/anaconda3/lib/python3.6/site-packages/IPython/core/formatters.py\u001b[0m in \u001b[0;36m__call__\u001b[0;34m(self, obj)\u001b[0m\n\u001b[1;32m    700\u001b[0m                 \u001b[0mtype_pprinters\u001b[0m\u001b[0;34m=\u001b[0m\u001b[0mself\u001b[0m\u001b[0;34m.\u001b[0m\u001b[0mtype_printers\u001b[0m\u001b[0;34m,\u001b[0m\u001b[0;34m\u001b[0m\u001b[0m\n\u001b[1;32m    701\u001b[0m                 deferred_pprinters=self.deferred_printers)\n\u001b[0;32m--> 702\u001b[0;31m             \u001b[0mprinter\u001b[0m\u001b[0;34m.\u001b[0m\u001b[0mpretty\u001b[0m\u001b[0;34m(\u001b[0m\u001b[0mobj\u001b[0m\u001b[0;34m)\u001b[0m\u001b[0;34m\u001b[0m\u001b[0m\n\u001b[0m\u001b[1;32m    703\u001b[0m             \u001b[0mprinter\u001b[0m\u001b[0;34m.\u001b[0m\u001b[0mflush\u001b[0m\u001b[0;34m(\u001b[0m\u001b[0;34m)\u001b[0m\u001b[0;34m\u001b[0m\u001b[0m\n\u001b[1;32m    704\u001b[0m             \u001b[0;32mreturn\u001b[0m \u001b[0mstream\u001b[0m\u001b[0;34m.\u001b[0m\u001b[0mgetvalue\u001b[0m\u001b[0;34m(\u001b[0m\u001b[0;34m)\u001b[0m\u001b[0;34m\u001b[0m\u001b[0m\n",
      "\u001b[0;32m/anaconda3/lib/python3.6/site-packages/IPython/lib/pretty.py\u001b[0m in \u001b[0;36mpretty\u001b[0;34m(self, obj)\u001b[0m\n\u001b[1;32m    393\u001b[0m                             \u001b[0;32mif\u001b[0m \u001b[0mcallable\u001b[0m\u001b[0;34m(\u001b[0m\u001b[0mmeth\u001b[0m\u001b[0;34m)\u001b[0m\u001b[0;34m:\u001b[0m\u001b[0;34m\u001b[0m\u001b[0m\n\u001b[1;32m    394\u001b[0m                                 \u001b[0;32mreturn\u001b[0m \u001b[0mmeth\u001b[0m\u001b[0;34m(\u001b[0m\u001b[0mobj\u001b[0m\u001b[0;34m,\u001b[0m \u001b[0mself\u001b[0m\u001b[0;34m,\u001b[0m \u001b[0mcycle\u001b[0m\u001b[0;34m)\u001b[0m\u001b[0;34m\u001b[0m\u001b[0m\n\u001b[0;32m--> 395\u001b[0;31m             \u001b[0;32mreturn\u001b[0m \u001b[0m_default_pprint\u001b[0m\u001b[0;34m(\u001b[0m\u001b[0mobj\u001b[0m\u001b[0;34m,\u001b[0m \u001b[0mself\u001b[0m\u001b[0;34m,\u001b[0m \u001b[0mcycle\u001b[0m\u001b[0;34m)\u001b[0m\u001b[0;34m\u001b[0m\u001b[0m\n\u001b[0m\u001b[1;32m    396\u001b[0m         \u001b[0;32mfinally\u001b[0m\u001b[0;34m:\u001b[0m\u001b[0;34m\u001b[0m\u001b[0m\n\u001b[1;32m    397\u001b[0m             \u001b[0mself\u001b[0m\u001b[0;34m.\u001b[0m\u001b[0mend_group\u001b[0m\u001b[0;34m(\u001b[0m\u001b[0;34m)\u001b[0m\u001b[0;34m\u001b[0m\u001b[0m\n",
      "\u001b[0;32m/anaconda3/lib/python3.6/site-packages/IPython/lib/pretty.py\u001b[0m in \u001b[0;36m_default_pprint\u001b[0;34m(obj, p, cycle)\u001b[0m\n\u001b[1;32m    508\u001b[0m     \u001b[0;32mif\u001b[0m \u001b[0m_safe_getattr\u001b[0m\u001b[0;34m(\u001b[0m\u001b[0mklass\u001b[0m\u001b[0;34m,\u001b[0m \u001b[0;34m'__repr__'\u001b[0m\u001b[0;34m,\u001b[0m \u001b[0;32mNone\u001b[0m\u001b[0;34m)\u001b[0m \u001b[0;32mis\u001b[0m \u001b[0;32mnot\u001b[0m \u001b[0mobject\u001b[0m\u001b[0;34m.\u001b[0m\u001b[0m__repr__\u001b[0m\u001b[0;34m:\u001b[0m\u001b[0;34m\u001b[0m\u001b[0m\n\u001b[1;32m    509\u001b[0m         \u001b[0;31m# A user-provided repr. Find newlines and replace them with p.break_()\u001b[0m\u001b[0;34m\u001b[0m\u001b[0;34m\u001b[0m\u001b[0m\n\u001b[0;32m--> 510\u001b[0;31m         \u001b[0m_repr_pprint\u001b[0m\u001b[0;34m(\u001b[0m\u001b[0mobj\u001b[0m\u001b[0;34m,\u001b[0m \u001b[0mp\u001b[0m\u001b[0;34m,\u001b[0m \u001b[0mcycle\u001b[0m\u001b[0;34m)\u001b[0m\u001b[0;34m\u001b[0m\u001b[0m\n\u001b[0m\u001b[1;32m    511\u001b[0m         \u001b[0;32mreturn\u001b[0m\u001b[0;34m\u001b[0m\u001b[0m\n\u001b[1;32m    512\u001b[0m     \u001b[0mp\u001b[0m\u001b[0;34m.\u001b[0m\u001b[0mbegin_group\u001b[0m\u001b[0;34m(\u001b[0m\u001b[0;36m1\u001b[0m\u001b[0;34m,\u001b[0m \u001b[0;34m'<'\u001b[0m\u001b[0;34m)\u001b[0m\u001b[0;34m\u001b[0m\u001b[0m\n",
      "\u001b[0;32m/anaconda3/lib/python3.6/site-packages/IPython/lib/pretty.py\u001b[0m in \u001b[0;36m_repr_pprint\u001b[0;34m(obj, p, cycle)\u001b[0m\n\u001b[1;32m    699\u001b[0m     \u001b[0;34m\"\"\"A pprint that just redirects to the normal repr function.\"\"\"\u001b[0m\u001b[0;34m\u001b[0m\u001b[0m\n\u001b[1;32m    700\u001b[0m     \u001b[0;31m# Find newlines and replace them with p.break_()\u001b[0m\u001b[0;34m\u001b[0m\u001b[0;34m\u001b[0m\u001b[0m\n\u001b[0;32m--> 701\u001b[0;31m     \u001b[0moutput\u001b[0m \u001b[0;34m=\u001b[0m \u001b[0mrepr\u001b[0m\u001b[0;34m(\u001b[0m\u001b[0mobj\u001b[0m\u001b[0;34m)\u001b[0m\u001b[0;34m\u001b[0m\u001b[0m\n\u001b[0m\u001b[1;32m    702\u001b[0m     \u001b[0;32mfor\u001b[0m \u001b[0midx\u001b[0m\u001b[0;34m,\u001b[0m\u001b[0moutput_line\u001b[0m \u001b[0;32min\u001b[0m \u001b[0menumerate\u001b[0m\u001b[0;34m(\u001b[0m\u001b[0moutput\u001b[0m\u001b[0;34m.\u001b[0m\u001b[0msplitlines\u001b[0m\u001b[0;34m(\u001b[0m\u001b[0;34m)\u001b[0m\u001b[0;34m)\u001b[0m\u001b[0;34m:\u001b[0m\u001b[0;34m\u001b[0m\u001b[0m\n\u001b[1;32m    703\u001b[0m         \u001b[0;32mif\u001b[0m \u001b[0midx\u001b[0m\u001b[0;34m:\u001b[0m\u001b[0;34m\u001b[0m\u001b[0m\n",
      "\u001b[0;32m/anaconda3/lib/python3.6/site-packages/pyblp/utilities/basics.py\u001b[0m in \u001b[0;36m__repr__\u001b[0;34m(self)\u001b[0m\n\u001b[1;32m    335\u001b[0m     \u001b[0;32mdef\u001b[0m \u001b[0m__repr__\u001b[0m\u001b[0;34m(\u001b[0m\u001b[0mself\u001b[0m\u001b[0;34m)\u001b[0m \u001b[0;34m->\u001b[0m \u001b[0mstr\u001b[0m\u001b[0;34m:\u001b[0m\u001b[0;34m\u001b[0m\u001b[0m\n\u001b[1;32m    336\u001b[0m         \u001b[0;34m\"\"\"Defer to the string representation.\"\"\"\u001b[0m\u001b[0;34m\u001b[0m\u001b[0m\n\u001b[0;32m--> 337\u001b[0;31m         \u001b[0;32mreturn\u001b[0m \u001b[0mstr\u001b[0m\u001b[0;34m(\u001b[0m\u001b[0mself\u001b[0m\u001b[0;34m)\u001b[0m\u001b[0;34m\u001b[0m\u001b[0m\n\u001b[0m\u001b[1;32m    338\u001b[0m \u001b[0;34m\u001b[0m\u001b[0m\n\u001b[1;32m    339\u001b[0m \u001b[0;34m\u001b[0m\u001b[0m\n",
      "\u001b[0;32m/anaconda3/lib/python3.6/site-packages/pyblp/results/problem_results.py\u001b[0m in \u001b[0;36m__str__\u001b[0;34m(self)\u001b[0m\n\u001b[1;32m    387\u001b[0m     \u001b[0;32mdef\u001b[0m \u001b[0m__str__\u001b[0m\u001b[0;34m(\u001b[0m\u001b[0mself\u001b[0m\u001b[0;34m)\u001b[0m \u001b[0;34m->\u001b[0m \u001b[0mstr\u001b[0m\u001b[0;34m:\u001b[0m\u001b[0;34m\u001b[0m\u001b[0m\n\u001b[1;32m    388\u001b[0m         \u001b[0;34m\"\"\"Format problem results as a string.\"\"\"\u001b[0m\u001b[0;34m\u001b[0m\u001b[0m\n\u001b[0;32m--> 389\u001b[0;31m         \u001b[0msections\u001b[0m \u001b[0;34m=\u001b[0m \u001b[0;34m[\u001b[0m\u001b[0mself\u001b[0m\u001b[0;34m.\u001b[0m\u001b[0m_format_summary\u001b[0m\u001b[0;34m(\u001b[0m\u001b[0;34m)\u001b[0m\u001b[0;34m,\u001b[0m \u001b[0mself\u001b[0m\u001b[0;34m.\u001b[0m\u001b[0m_format_cumulative_statistics\u001b[0m\u001b[0;34m(\u001b[0m\u001b[0;34m)\u001b[0m\u001b[0;34m]\u001b[0m\u001b[0;34m\u001b[0m\u001b[0m\n\u001b[0m\u001b[1;32m    390\u001b[0m \u001b[0;34m\u001b[0m\u001b[0m\n\u001b[1;32m    391\u001b[0m         \u001b[0;31m# construct a standard error description\u001b[0m\u001b[0;34m\u001b[0m\u001b[0;34m\u001b[0m\u001b[0m\n",
      "\u001b[0;32m/anaconda3/lib/python3.6/site-packages/pyblp/results/problem_results.py\u001b[0m in \u001b[0;36m_format_summary\u001b[0;34m(self)\u001b[0m\n\u001b[1;32m    492\u001b[0m         \u001b[0;31m# add information about the weighting matrix\u001b[0m\u001b[0;34m\u001b[0m\u001b[0;34m\u001b[0m\u001b[0m\n\u001b[1;32m    493\u001b[0m         \u001b[0mheader\u001b[0m\u001b[0;34m.\u001b[0m\u001b[0mappend\u001b[0m\u001b[0;34m(\u001b[0m\u001b[0;34m(\u001b[0m\u001b[0;34m\"Weighting Matrix\"\u001b[0m\u001b[0;34m,\u001b[0m \u001b[0;34m\"Condition Number\"\u001b[0m\u001b[0;34m)\u001b[0m\u001b[0;34m)\u001b[0m\u001b[0;34m\u001b[0m\u001b[0m\n\u001b[0;32m--> 494\u001b[0;31m         \u001b[0mvalues\u001b[0m\u001b[0;34m.\u001b[0m\u001b[0mappend\u001b[0m\u001b[0;34m(\u001b[0m\u001b[0mformat_number\u001b[0m\u001b[0;34m(\u001b[0m\u001b[0mcompute_condition_number\u001b[0m\u001b[0;34m(\u001b[0m\u001b[0mself\u001b[0m\u001b[0;34m.\u001b[0m\u001b[0mW\u001b[0m\u001b[0;34m)\u001b[0m\u001b[0;34m)\u001b[0m\u001b[0;34m)\u001b[0m\u001b[0;34m\u001b[0m\u001b[0m\n\u001b[0m\u001b[1;32m    495\u001b[0m \u001b[0;34m\u001b[0m\u001b[0m\n\u001b[1;32m    496\u001b[0m         \u001b[0;31m# add information about the covariance matrix\u001b[0m\u001b[0;34m\u001b[0m\u001b[0;34m\u001b[0m\u001b[0m\n",
      "\u001b[0;32m/anaconda3/lib/python3.6/site-packages/pyblp/utilities/algebra.py\u001b[0m in \u001b[0;36mcompute_condition_number\u001b[0;34m(x)\u001b[0m\n\u001b[1;32m     15\u001b[0m     \u001b[0;32mif\u001b[0m \u001b[0;32mnot\u001b[0m \u001b[0mnp\u001b[0m\u001b[0;34m.\u001b[0m\u001b[0misfinite\u001b[0m\u001b[0;34m(\u001b[0m\u001b[0mx\u001b[0m\u001b[0;34m)\u001b[0m\u001b[0;34m.\u001b[0m\u001b[0mall\u001b[0m\u001b[0;34m(\u001b[0m\u001b[0;34m)\u001b[0m\u001b[0;34m:\u001b[0m\u001b[0;34m\u001b[0m\u001b[0m\n\u001b[1;32m     16\u001b[0m         \u001b[0;32mreturn\u001b[0m \u001b[0mnp\u001b[0m\u001b[0;34m.\u001b[0m\u001b[0mnan\u001b[0m\u001b[0;34m\u001b[0m\u001b[0m\n\u001b[0;32m---> 17\u001b[0;31m     \u001b[0;32mreturn\u001b[0m \u001b[0mnp\u001b[0m\u001b[0;34m.\u001b[0m\u001b[0mlinalg\u001b[0m\u001b[0;34m.\u001b[0m\u001b[0mcond\u001b[0m\u001b[0;34m(\u001b[0m\u001b[0mx\u001b[0m\u001b[0;34m.\u001b[0m\u001b[0mastype\u001b[0m\u001b[0;34m(\u001b[0m\u001b[0mnp\u001b[0m\u001b[0;34m.\u001b[0m\u001b[0mfloat64\u001b[0m\u001b[0;34m)\u001b[0m\u001b[0;34m)\u001b[0m\u001b[0;34m\u001b[0m\u001b[0m\n\u001b[0m\u001b[1;32m     18\u001b[0m \u001b[0;34m\u001b[0m\u001b[0m\n\u001b[1;32m     19\u001b[0m \u001b[0;34m\u001b[0m\u001b[0m\n",
      "\u001b[0;32m<__array_function__ internals>\u001b[0m in \u001b[0;36mcond\u001b[0;34m(*args, **kwargs)\u001b[0m\n",
      "\u001b[0;32m/anaconda3/lib/python3.6/site-packages/numpy/linalg/linalg.py\u001b[0m in \u001b[0;36mcond\u001b[0;34m(x, p)\u001b[0m\n\u001b[1;32m   1727\u001b[0m     \u001b[0mx\u001b[0m \u001b[0;34m=\u001b[0m \u001b[0masarray\u001b[0m\u001b[0;34m(\u001b[0m\u001b[0mx\u001b[0m\u001b[0;34m)\u001b[0m  \u001b[0;31m# in case we have a matrix\u001b[0m\u001b[0;34m\u001b[0m\u001b[0m\n\u001b[1;32m   1728\u001b[0m     \u001b[0;32mif\u001b[0m \u001b[0m_is_empty_2d\u001b[0m\u001b[0;34m(\u001b[0m\u001b[0mx\u001b[0m\u001b[0;34m)\u001b[0m\u001b[0;34m:\u001b[0m\u001b[0;34m\u001b[0m\u001b[0m\n\u001b[0;32m-> 1729\u001b[0;31m         \u001b[0;32mraise\u001b[0m \u001b[0mLinAlgError\u001b[0m\u001b[0;34m(\u001b[0m\u001b[0;34m\"cond is not defined on empty arrays\"\u001b[0m\u001b[0;34m)\u001b[0m\u001b[0;34m\u001b[0m\u001b[0m\n\u001b[0m\u001b[1;32m   1730\u001b[0m     \u001b[0;32mif\u001b[0m \u001b[0mp\u001b[0m \u001b[0;32mis\u001b[0m \u001b[0;32mNone\u001b[0m \u001b[0;32mor\u001b[0m \u001b[0mp\u001b[0m \u001b[0;34m==\u001b[0m \u001b[0;36m2\u001b[0m \u001b[0;32mor\u001b[0m \u001b[0mp\u001b[0m \u001b[0;34m==\u001b[0m \u001b[0;34m-\u001b[0m\u001b[0;36m2\u001b[0m\u001b[0;34m:\u001b[0m\u001b[0;34m\u001b[0m\u001b[0m\n\u001b[1;32m   1731\u001b[0m         \u001b[0ms\u001b[0m \u001b[0;34m=\u001b[0m \u001b[0msvd\u001b[0m\u001b[0;34m(\u001b[0m\u001b[0mx\u001b[0m\u001b[0;34m,\u001b[0m \u001b[0mcompute_uv\u001b[0m\u001b[0;34m=\u001b[0m\u001b[0;32mFalse\u001b[0m\u001b[0;34m)\u001b[0m\u001b[0;34m\u001b[0m\u001b[0m\n",
      "\u001b[0;31mLinAlgError\u001b[0m: cond is not defined on empty arrays"
     ]
    }
   ],
   "source": [
    "results1 = mc_problem.solve(sigma=np.ones((5, 5)), optimization=bfgs, method ='1s')\n",
    "results1"
   ]
  },
  {
   "cell_type": "code",
   "execution_count": null,
   "metadata": {},
   "outputs": [],
   "source": [
    "results2 = pr_problem.solve(sigma=np.ones((5, 5)), optimization=bfgs)\n",
    "results2"
   ]
  },
  {
   "cell_type": "code",
   "execution_count": 149,
   "metadata": {},
   "outputs": [
    {
     "data": {
      "text/plain": [
       "prices + x3 + x4 + x5 + demand_instruments2 + Absorb[C(market_ids)]"
      ]
     },
     "execution_count": 149,
     "metadata": {},
     "output_type": "execute_result"
    }
   ],
   "source": [
    "#logit formulation test\n",
    "logit_formulation = pyblp.Formulation('prices + x3 +x4 + x5 + demand_instruments2', absorb='C(market_ids)')\n",
    "logit_formulation"
   ]
  },
  {
   "cell_type": "code",
   "execution_count": 150,
   "metadata": {},
   "outputs": [],
   "source": [
    "log_problem = pyblp.Problem(logit_formulation, data1)"
   ]
  },
  {
   "cell_type": "code",
   "execution_count": 151,
   "metadata": {},
   "outputs": [
    {
     "data": {
      "text/plain": [
       "Dimensions:\n",
       "==========================\n",
       " T    N    K1    MD    ED \n",
       "---  ---  ----  ----  ----\n",
       "100  367   5     4     1  \n",
       "==========================\n",
       "\n",
       "Formulations:\n",
       "======================================================================\n",
       "     Column Indices:          0      1    2    3            4         \n",
       "--------------------------  ------  ---  ---  ---  -------------------\n",
       "X1: Linear Characteristics  prices  x3   x4   x5   demand_instruments2\n",
       "======================================================================"
      ]
     },
     "execution_count": 151,
     "metadata": {},
     "output_type": "execute_result"
    }
   ],
   "source": [
    "log_problem"
   ]
  },
  {
   "cell_type": "code",
   "execution_count": 228,
   "metadata": {},
   "outputs": [
    {
     "data": {
      "text/plain": [
       "array([[1, 0, 0, 0, 0],\n",
       "       [0, 1, 0, 0, 0],\n",
       "       [0, 0, 1, 0, 0],\n",
       "       [0, 0, 0, 1, 0],\n",
       "       [0, 0, 0, 0, 1]])"
      ]
     },
     "execution_count": 228,
     "metadata": {},
     "output_type": "execute_result"
    }
   ],
   "source": [
    "#BLP type with no correlation\n",
    "#introduce bounds on sigma guess\n",
    "sigma=np.diag([1,1,1,1,1])\n",
    "sigma"
   ]
  },
  {
   "cell_type": "code",
   "execution_count": 229,
   "metadata": {},
   "outputs": [
    {
     "data": {
      "text/plain": [
       "(array([[0, 0, 0, 0, 0],\n",
       "        [0, 0, 0, 0, 0],\n",
       "        [0, 0, 0, 0, 0],\n",
       "        [0, 0, 0, 0, 0],\n",
       "        [0, 0, 0, 0, 0]]), array([[100,   0,   0,   0,   0],\n",
       "        [  0, 100,   0,   0,   0],\n",
       "        [  0,   0, 100,   0,   0],\n",
       "        [  0,   0,   0, 100,   0],\n",
       "        [  0,   0,   0,   0, 100]]))"
      ]
     },
     "execution_count": 229,
     "metadata": {},
     "output_type": "execute_result"
    }
   ],
   "source": [
    "sigma_bounds = (np.zeros_like(sigma), np.diag([100,100,100,100,100]))\n",
    "sigma_bounds"
   ]
  },
  {
   "cell_type": "code",
   "execution_count": 230,
   "metadata": {},
   "outputs": [
    {
     "data": {
      "text/plain": [
       "Problem Results Summary:\n",
       "==============================================================================================\n",
       "GMM   Objective  Gradient      Hessian         Hessian     Weighting Matrix  Covariance Matrix\n",
       "Step    Value      Norm    Min Eigenvalue  Max Eigenvalue  Condition Number  Condition Number \n",
       "----  ---------  --------  --------------  --------------  ----------------  -----------------\n",
       " 2    +1.2E-29   +4.8E-15     -4.7E-08        +6.5E-08         +7.4E+02          +5.5E+18     \n",
       "==============================================================================================\n",
       "\n",
       "Cumulative Statistics:\n",
       "================================================================\n",
       "Computation  Optimization   Objective   Fixed Point  Contraction\n",
       "   Time       Iterations   Evaluations  Iterations   Evaluations\n",
       "-----------  ------------  -----------  -----------  -----------\n",
       " 00:00:20         0             4          2892         8869    \n",
       "================================================================\n",
       "\n",
       "Nonlinear Coefficient Estimates (Robust SEs in Parentheses):\n",
       "==================================================================\n",
       "Sigma:      1         prices        x3          x4          x5    \n",
       "------  ----------  ----------  ----------  ----------  ----------\n",
       "  1      +1.0E+00                                                 \n",
       "        (+1.8E-02)                                                \n",
       "                                                                  \n",
       "prices   +0.0E+00    +1.0E+00                                     \n",
       "                    (+1.2E-01)                                    \n",
       "                                                                  \n",
       "  x3     +0.0E+00    +0.0E+00    +1.0E+00                         \n",
       "                                (+2.3E-01)                        \n",
       "                                                                  \n",
       "  x4     +0.0E+00    +0.0E+00    +0.0E+00    +1.0E+00             \n",
       "                                            (+2.0E-01)            \n",
       "                                                                  \n",
       "  x5     +0.0E+00    +0.0E+00    +0.0E+00    +0.0E+00    +1.0E+00 \n",
       "                                                        (+3.0E-02)\n",
       "==================================================================\n",
       "\n",
       "Beta Estimates (Robust SEs in Parentheses):\n",
       "========================================================================================================================================================================================================================================================================================================================================================================================================================================================================\n",
       "  prices        x3          x4          x5      demand_instruments2  demand_instruments3  demand_instruments4  demand_instruments5  demand_instruments6  demand_instruments7  demand_instruments8  demand_instruments9  demand_instruments10  demand_instruments11  demand_instruments12  demand_instruments13  demand_instruments14  demand_instruments15  demand_instruments16  demand_instruments17  demand_instruments18  demand_instruments19  demand_instruments20\n",
       "----------  ----------  ----------  ----------  -------------------  -------------------  -------------------  -------------------  -------------------  -------------------  -------------------  -------------------  --------------------  --------------------  --------------------  --------------------  --------------------  --------------------  --------------------  --------------------  --------------------  --------------------  --------------------\n",
       " -1.8E+00    +1.8E+00    +6.7E-01    +9.4E-01        +1.9E-01             +5.4E-02             +1.2E-01             +1.3E-02             +4.2E-01             -2.3E-01             -6.5E-01             -4.6E-01              -3.2E-01              -2.3E-01              -1.6E-01              -5.2E-01              -2.2E-01              +1.6E-02              -1.7E-02              -9.6E-01              +4.4E-01              +4.8E-01              -3.0E-01      \n",
       "(+1.6E-01)  (+1.3E-01)  (+4.9E-01)  (+6.6E-01)      (+2.7E-01)           (+2.8E-01)           (+2.7E-01)           (+2.7E-01)           (+2.8E-01)           (+2.6E-01)           (+2.3E-01)           (+2.7E-01)            (+3.0E-01)            (+2.5E-01)            (+3.0E-01)            (+2.6E-01)            (+2.6E-01)            (+2.8E-01)            (+2.4E-01)            (+2.4E-01)            (+2.6E-01)            (+2.6E-01)            (+2.2E-01)     \n",
       "========================================================================================================================================================================================================================================================================================================================================================================================================================================================================"
      ]
     },
     "execution_count": 230,
     "metadata": {},
     "output_type": "execute_result"
    }
   ],
   "source": [
    "results3 = mc_problem.solve(sigma=sigma,sigma_bounds=sigma_bounds, optimization=bfgs)\n",
    "results3"
   ]
  },
  {
   "cell_type": "code",
   "execution_count": null,
   "metadata": {},
   "outputs": [],
   "source": []
  }
 ],
 "metadata": {
  "kernelspec": {
   "display_name": "Python 3",
   "language": "python",
   "name": "python3"
  },
  "language_info": {
   "codemirror_mode": {
    "name": "ipython",
    "version": 3
   },
   "file_extension": ".py",
   "mimetype": "text/x-python",
   "name": "python",
   "nbconvert_exporter": "python",
   "pygments_lexer": "ipython3",
   "version": "3.6.4"
  }
 },
 "nbformat": 4,
 "nbformat_minor": 2
}
